{
 "cells": [
  {
   "cell_type": "markdown",
   "id": "d303e4c0-d0f8-4767-aa68-9e2d6e7c40dc",
   "metadata": {},
   "source": [
    "# Ley de Malus y ángulo de Brewster\n",
    "\n",
    "## Comprobación de la ley de Malus\n",
    "Colocamos los dos polarizadores, determinando un valor de Φ0 = angulominimo == ángulo del segundo polarizador en que la luz es mínima\n"
   ]
  }
 ],
 "metadata": {
  "kernelspec": {
   "display_name": "Python 3 (ipykernel)",
   "language": "python",
   "name": "python3"
  },
  "language_info": {
   "codemirror_mode": {
    "name": "ipython",
    "version": 3
   },
   "file_extension": ".py",
   "mimetype": "text/x-python",
   "name": "python",
   "nbconvert_exporter": "python",
   "pygments_lexer": "ipython3",
   "version": "3.12.4"
  }
 },
 "nbformat": 4,
 "nbformat_minor": 5
}
